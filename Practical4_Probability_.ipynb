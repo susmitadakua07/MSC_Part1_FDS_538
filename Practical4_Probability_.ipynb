{
  "nbformat": 4,
  "nbformat_minor": 0,
  "metadata": {
    "colab": {
      "provenance": [],
      "authorship_tag": "ABX9TyOhsYKm519yIwY9/iHra878",
      "include_colab_link": true
    },
    "kernelspec": {
      "name": "python3",
      "display_name": "Python 3"
    },
    "language_info": {
      "name": "python"
    }
  },
  "cells": [
    {
      "cell_type": "markdown",
      "metadata": {
        "id": "view-in-github",
        "colab_type": "text"
      },
      "source": [
        "<a href=\"https://colab.research.google.com/github/susmitadakua07/MSC_Part1_FDS_538/blob/main/Practical4_Probability_.ipynb\" target=\"_parent\"><img src=\"https://colab.research.google.com/assets/colab-badge.svg\" alt=\"Open In Colab\"/></a>"
      ]
    },
    {
      "cell_type": "code",
      "execution_count": 1,
      "metadata": {
        "colab": {
          "base_uri": "https://localhost:8080/"
        },
        "id": "NDx3O-cymvvE",
        "outputId": "8f264dcc-8272-406c-a280-d75280be6e94"
      },
      "outputs": [
        {
          "output_type": "stream",
          "name": "stdout",
          "text": [
            "probability of getting 3 is: 0.16666666666666666\n"
          ]
        }
      ],
      "source": [
        "# probability of getting 3 when a die is rolled\n",
        "ns = 6 #n(S) = {1,2,3,4,5,6}\n",
        "na = 1 #n(A) = {3}\n",
        "pa = na/ns # P(A)\n",
        "print(\"probability of getting 3 is:\",pa)"
      ]
    },
    {
      "cell_type": "code",
      "source": [
        "# probability of atleast getting one head when a coin is tossed thrice\n",
        "ns = 8 #n(S) = {HHH, HHT, HTH, THH, TTH, THT, HTT, TTT}\n",
        "na = 7 #n(A) = {HHH, HHT, HTH, THH, TTH, THT, HTT}\n",
        "pa = na/ns # P(A)\n",
        "print(\"probability of getting atleast one head is:\",pa)"
      ],
      "metadata": {
        "colab": {
          "base_uri": "https://localhost:8080/"
        },
        "id": "Tl_7Tvmfn2cU",
        "outputId": "52cd128d-9002-4676-c284-d0c923e17745"
      },
      "execution_count": 2,
      "outputs": [
        {
          "output_type": "stream",
          "name": "stdout",
          "text": [
            "probability of getting atleast one head is: 0.875\n"
          ]
        }
      ]
    },
    {
      "cell_type": "code",
      "source": [
        "# A glass jar contains 5 red, 3 blue and 2 green jelly beans. If a jelly bean is chosen at random from the jar, \n",
        "#  mwhat is the probability that it is not blue?\n",
        "ns = 10 #n(S) = {5red,3blue,2green}\n",
        "na = 7 #n(A) = {5red, 2green}\n",
        "pa = na/ns # P(A)\n",
        "print(\"probability of getting not blue jellybean is:\",pa)"
      ],
      "metadata": {
        "colab": {
          "base_uri": "https://localhost:8080/"
        },
        "id": "qHI4tPnqn72y",
        "outputId": "c6c37180-27d5-45a3-845c-7bca87a0c7a6"
      },
      "execution_count": 3,
      "outputs": [
        {
          "output_type": "stream",
          "name": "stdout",
          "text": [
            "probability of getting not blue jellybean is: 0.7\n"
          ]
        }
      ]
    },
    {
      "cell_type": "code",
      "source": [
        "# If the probability that person A will be alive in 20 years\n",
        "#is 0.7 and the probability that person B will be alive in\n",
        "# 20 years is 0.5, what is the probability that they will \n",
        "#both be alive in 20 years?\n",
        "\n",
        "#These are independent events, so\n",
        "P = 0.7*0.5\n",
        "print(\"probability that they will be alive after 20 years is:\",P)"
      ],
      "metadata": {
        "colab": {
          "base_uri": "https://localhost:8080/"
        },
        "id": "RotN_4kmoCHS",
        "outputId": "dfc0118d-0b3f-4fb9-c9fe-8358685a0235"
      },
      "execution_count": 4,
      "outputs": [
        {
          "output_type": "stream",
          "name": "stdout",
          "text": [
            "probability that they will be alive after 20 years is: 0.35\n"
          ]
        }
      ]
    }
  ]
}