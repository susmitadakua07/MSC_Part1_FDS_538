{
  "nbformat": 4,
  "nbformat_minor": 0,
  "metadata": {
    "colab": {
      "provenance": [],
      "authorship_tag": "ABX9TyPso0YwxhN0FBQ4Dauz5Dip",
      "include_colab_link": true
    },
    "kernelspec": {
      "name": "python3",
      "display_name": "Python 3"
    },
    "language_info": {
      "name": "python"
    }
  },
  "cells": [
    {
      "cell_type": "markdown",
      "metadata": {
        "id": "view-in-github",
        "colab_type": "text"
      },
      "source": [
        "<a href=\"https://colab.research.google.com/github/susmitadakua07/MSC_Part1_FDS_538/blob/main/Practical5_Discrete_Distribution.ipynb\" target=\"_parent\"><img src=\"https://colab.research.google.com/assets/colab-badge.svg\" alt=\"Open In Colab\"/></a>"
      ]
    },
    {
      "cell_type": "code",
      "execution_count": null,
      "metadata": {
        "id": "YkdvmTPHhcHp"
      },
      "outputs": [],
      "source": [
        "#for inline plots in jupyter\n",
        "%matplotlib inline\n",
        "# import matplotlib\n",
        "import matplotlib.pyplot as plt\n",
        "# for latex equations\n",
        "from IPython.display import Math, Latex\n",
        "# for displaying images\n",
        "from IPython.core.display import Image\n",
        "import numpy as np"
      ]
    },
    {
      "cell_type": "code",
      "source": [
        "# import seaborn\n",
        "import seaborn as sns\n",
        "# settings for seaborn plotting style\n",
        "sns.set(color_codes=True)\n",
        "# settings for seaborn plot sizes\n",
        "sns.set(rc={'figure.figsize':(5,5)})"
      ],
      "metadata": {
        "id": "SPBDr4MRm6Ta"
      },
      "execution_count": null,
      "outputs": []
    },
    {
      "cell_type": "code",
      "source": [
        "from scipy.stats import bernoulli\n",
        "data_bern = bernoulli.rvs(size=10000,p=0.6)"
      ],
      "metadata": {
        "id": "HfwYW3eDm_xQ"
      },
      "execution_count": null,
      "outputs": []
    },
    {
      "cell_type": "code",
      "source": [
        "ax= sns.distplot(data_bern,\n",
        "                 kde=False,\n",
        "                 color=\"skyblue\",\n",
        "                 hist_kws={\"linewidth\": 15,'alpha':1})\n",
        "ax.set(xlabel='Bernoulli Distribution', ylabel='Frequency')"
      ],
      "metadata": {
        "colab": {
          "base_uri": "https://localhost:8080/",
          "height": 411
        },
        "id": "4QL7i78HnG74",
        "outputId": "9039d8ae-7c2f-4d51-a6bb-1a7f27e36535"
      },
      "execution_count": null,
      "outputs": [
        {
          "output_type": "stream",
          "name": "stderr",
          "text": [
            "/usr/local/lib/python3.7/dist-packages/seaborn/distributions.py:2619: FutureWarning: `distplot` is a deprecated function and will be removed in a future version. Please adapt your code to use either `displot` (a figure-level function with similar flexibility) or `histplot` (an axes-level function for histograms).\n",
            "  warnings.warn(msg, FutureWarning)\n"
          ]
        },
        {
          "output_type": "execute_result",
          "data": {
            "text/plain": [
              "[Text(0, 0.5, 'Frequency'), Text(0.5, 0, 'Bernoulli Distribution')]"
            ]
          },
          "metadata": {},
          "execution_count": 5
        },
        {
          "output_type": "display_data",
          "data": {
            "text/plain": [
              "<Figure size 360x360 with 1 Axes>"
            ],
            "image/png": "[encoded data removed]"
          },
          "metadata": {}
        }
      ]
    },
    {
      "cell_type": "code",
      "source": [
        "from scipy.stats import binom\n",
        "data_binom = binom.rvs(n=10,p=0.8,size=10000)"
      ],
      "metadata": {
        "id": "qGiKyWflnP1w"
      },
      "execution_count": null,
      "outputs": []
    },
    {
      "cell_type": "code",
      "source": [
        "ax = sns.distplot(data_binom,\n",
        "                  kde=False,\n",
        "                  color='skyblue',\n",
        "                  hist_kws={\"linewidth\": 15,'alpha':1})\n",
        "ax.set(xlabel='Binomial Distribution', ylabel='Frequency')"
      ],
      "metadata": {
        "colab": {
          "base_uri": "https://localhost:8080/",
          "height": 356
        },
        "id": "VoX9CmrcnUTA",
        "outputId": "876e4cec-5b91-4721-e43d-297adc031ca1"
      },
      "execution_count": null,
      "outputs": [
        {
          "output_type": "execute_result",
          "data": {
            "text/plain": [
              "[Text(0, 0.5, 'Frequency'), Text(0.5, 0, 'Binomial Distribution')]"
            ]
          },
          "metadata": {},
          "execution_count": 7
        },
        {
          "output_type": "display_data",
          "data": {
            "text/plain": [
              "<Figure size 360x360 with 1 Axes>"
            ],
            "image/png": "[encoded data removed]"
          },
          "metadata": {}
        }
      ]
    },
    {
      "cell_type": "code",
      "source": [
        "from scipy.stats import poisson\n",
        "data_poisson = poisson.rvs(mu=3, size=10000)"
      ],
      "metadata": {
        "id": "AQsy-QIznZEQ"
      },
      "execution_count": null,
      "outputs": []
    },
    {
      "cell_type": "code",
      "source": [
        "ax = sns.distplot(data_poisson,\n",
        "                  bins=30,\n",
        "                  kde=False,\n",
        "                  color='skyblue',\n",
        "                  hist_kws={\"linewidth\": 15,'alpha':1})\n",
        "ax.set(xlabel='Poisson Distribution', ylabel='Frequency')"
      ],
      "metadata": {
        "colab": {
          "base_uri": "https://localhost:8080/",
          "height": 356
        },
        "id": "H4pQqTymnelh",
        "outputId": "03a7b610-0795-48ee-9886-a3f23f701ecf"
      },
      "execution_count": null,
      "outputs": [
        {
          "output_type": "execute_result",
          "data": {
            "text/plain": [
              "[Text(0, 0.5, 'Frequency'), Text(0.5, 0, 'Poisson Distribution')]"
            ]
          },
          "metadata": {},
          "execution_count": 9
        },
        {
          "output_type": "display_data",
          "data": {
            "text/plain": [
              "<Figure size 360x360 with 1 Axes>"
            ],
            "image/png": "[encoded data removed]"
          },
          "metadata": {}
        }
      ]
    },
    {
      "cell_type": "code",
      "source": [],
      "metadata": {
        "id": "NctraD3h0DXA"
      },
      "execution_count": null,
      "outputs": []
    }
  ]
}